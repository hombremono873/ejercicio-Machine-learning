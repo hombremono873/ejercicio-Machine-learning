{
 "cells": [
  {
   "cell_type": "code",
   "execution_count": 32,
   "id": "acc448db-0cbf-4ab0-9dce-f0920889842b",
   "metadata": {},
   "outputs": [
    {
     "name": "stdout",
     "output_type": "stream",
     "text": [
      "No es posible multiplicar las matrices, verifique la dimencionalidad de la matriz A y B\n",
      "Columnas de A: 3, Filas de B: 2\n",
      "Error generado shapes (2,3) and (2,2) not aligned: 3 (dim 1) != 2 (dim 0)\n",
      "Producto C = A.B  None\n"
     ]
    }
   ],
   "source": [
    "# Producto matricial\n",
    "import numpy as np\n",
    "A = np.array([\n",
    "    [1,2,3],\n",
    "    [4,5,6]\n",
    "   ]\n",
    ")\n",
    "B = np.array([\n",
    "    [7,8], \n",
    "    [9,10],\n",
    "    [11,12]\n",
    "   ])\n",
    "A1 = np.array(\n",
    "    [\n",
    "        [1,2,3],\n",
    "        [4,5,6]\n",
    "    ]\n",
    ")\n",
    "B1 = np.array(\n",
    "    [\n",
    "        [7,8],\n",
    "        [9,10]\n",
    "    ]\n",
    ")\n",
    "def producto_matrices(A,B):\n",
    "    colA = np.shape(A)[1]\n",
    "    filB = np.shape(B)[0]\n",
    "    try:\n",
    "       C = np.dot(A,B)\n",
    "       return C \n",
    "       \n",
    "    except ValueError as e:\n",
    "        print(\"No es posible multiplicar las matrices, verifique la dimencionalidad de la matriz A y B\")\n",
    "        print(f\"Columnas de A: {colA}, Filas de B: {filB}\")\n",
    "        print(f\"Error generado {e}\")\n",
    "        return None\n",
    "       \n",
    "        \n",
    "def main():\n",
    "    C = producto_matrices(A1,B1)\n",
    "    print(\"Producto C = A.B \",C)\n",
    "    \n",
    "\n",
    "if __name__ == \"__main__\":\n",
    "    main()                      "
   ]
  },
  {
   "cell_type": "code",
   "execution_count": null,
   "id": "59773cbc-a3b5-4db9-b083-df00072ad48d",
   "metadata": {},
   "outputs": [],
   "source": []
  },
  {
   "cell_type": "code",
   "execution_count": null,
   "id": "0462a802-45a7-44c8-9662-9e6c1d049e35",
   "metadata": {},
   "outputs": [],
   "source": []
  }
 ],
 "metadata": {
  "kernelspec": {
   "display_name": "Python [conda env:base] *",
   "language": "python",
   "name": "conda-base-py"
  },
  "language_info": {
   "codemirror_mode": {
    "name": "ipython",
    "version": 3
   },
   "file_extension": ".py",
   "mimetype": "text/x-python",
   "name": "python",
   "nbconvert_exporter": "python",
   "pygments_lexer": "ipython3",
   "version": "3.12.7"
  }
 },
 "nbformat": 4,
 "nbformat_minor": 5
}
