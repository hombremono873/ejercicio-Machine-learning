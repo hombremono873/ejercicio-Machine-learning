{
 "cells": [
  {
   "cell_type": "markdown",
   "id": "719a5fdf-7bd6-4b9e-8774-d32809ae5949",
   "metadata": {},
   "source": [
    "# Función map\n",
    " La función map aplica una funcion a cada iterable (lista o tupla) y retorna un iterador con los resultados es util para transformar datos sin excribir bucles explicitamente\n",
    "\n",
    "## Estructura:\n",
    "map(funcion, iterable)\n",
    "- Función: Es la función que se aplicará al iterable.\n",
    "- Iterable: Es la colección de los elementos a los que se aplicara la función.\n",
    "  "
   ]
  },
  {
   "cell_type": "code",
   "execution_count": 4,
   "id": "19f06d17-a520-4470-8695-02d34131f95d",
   "metadata": {},
   "outputs": [
    {
     "data": {
      "text/plain": [
       "(32.0, 50.0, 68.0, 86.0)"
      ]
     },
     "execution_count": 4,
     "metadata": {},
     "output_type": "execute_result"
    }
   ],
   "source": [
    "def ceslcius_a_fahrenheit(c):\n",
    "    return c*9/5 +32\n",
    "celsius = [0,10,20,30]\n",
    "lista_temp = map(ceslcius_a_fahrenheit, celsius)\n",
    "tuple(lista_temp)"
   ]
  },
  {
   "cell_type": "markdown",
   "id": "bd83e6b9-5d11-42d0-be93-3c45a3da57f4",
   "metadata": {},
   "source": [
    "# Problema 2\n",
    "dada una lista de numeros obtener una lista con valores duplicados"
   ]
  },
  {
   "cell_type": "code",
   "execution_count": 19,
   "id": "c56f616d-d72e-4f4d-ad73-7faa9627a0f3",
   "metadata": {},
   "outputs": [
    {
     "name": "stdout",
     "output_type": "stream",
     "text": [
      "[4, 6, 8, 10, 12, 14]\n"
     ]
    }
   ],
   "source": [
    "def duplicar_valor_lista(lista):\n",
    "    return  lista*2\n",
    "    \n",
    "lista = [2,3,4,5,6,7]\n",
    "res =list(map(duplicar_valor_lista, lista))\n",
    "print(res)\n"
   ]
  },
  {
   "cell_type": "markdown",
   "id": "1d9c6fe5-164b-4859-bbb7-e421fdc97d4e",
   "metadata": {},
   "source": [
    "# 2. Convertir lista de string a enteros"
   ]
  },
  {
   "cell_type": "code",
   "execution_count": 28,
   "id": "53802c4c-d310-4a5b-81ae-8694d81e2e74",
   "metadata": {},
   "outputs": [
    {
     "name": "stdout",
     "output_type": "stream",
     "text": [
      "[23, 22, 55, 28]\n"
     ]
    }
   ],
   "source": [
    "def converStringEnteros(num):\n",
    "    return int(num)    #Opera sobre un elemento\n",
    "\n",
    "lista = [\"23\", \"22\", \"55\", \"28\"]\n",
    "res = map(converStringEnteros, lista)\n",
    "print(list(res))"
   ]
  },
  {
   "cell_type": "markdown",
   "id": "0773169f-ccbd-48a3-9ea8-91ee2977bcba",
   "metadata": {},
   "source": [
    "# Es important resaltar que:\n",
    "map esta diseada para acceder sobre un iterable, por lo que la funcion que se pasa como argumento debe procesar un elemento\n",
    "como bien se observa en el codigo anterior \n",
    "\n",
    "Si quremos poder pasar a la funcion una lista de elemtos podemos simular que hay un solo elemento usando  doble corchete así:\n",
    "[[1,2,3,4]] pasamos un iterable de un solo elemento"
   ]
  },
  {
   "cell_type": "code",
   "execution_count": 27,
   "id": "4647068c-0aba-4652-9099-54be1f5c129c",
   "metadata": {},
   "outputs": [
    {
     "name": "stdout",
     "output_type": "stream",
     "text": [
      "[[223, 242, 55, -428]]\n"
     ]
    }
   ],
   "source": [
    "def converStringEnteros(operando):\n",
    "    return [int(x) for x in operando]    #Opera sobre un elemento\n",
    "    \n",
    "lista = [[\"223\", \"242\", \"55\", \"-428\"]]\n",
    "res = list(map(converStringEnteros, lista))\n",
    "print(res)"
   ]
  },
  {
   "cell_type": "markdown",
   "id": "b371d1cb-283f-493f-824f-956cf26d0b6f",
   "metadata": {},
   "source": [
    "## Obtener las longitudes de palabra"
   ]
  },
  {
   "cell_type": "code",
   "execution_count": 33,
   "id": "de63d318-4897-4306-9871-55047e333d47",
   "metadata": {},
   "outputs": [
    {
     "name": "stdout",
     "output_type": "stream",
     "text": [
      "[6, 2, 6]\n"
     ]
    }
   ],
   "source": [
    "def func_long(palabra):\n",
    "    return len(palabra)\n",
    "\n",
    "entrada = [\"Python\", \"es\", \"genial\"]\n",
    "longitudPalabras = map(func_long, entrada)\n",
    "print(list(longitudPalabras))"
   ]
  },
  {
   "cell_type": "markdown",
   "id": "fa21dde1-af59-41f2-8937-7da2d39a4962",
   "metadata": {},
   "source": [
    "# Elevar al cuadrado los números de una lista\n"
   ]
  },
  {
   "cell_type": "code",
   "execution_count": 36,
   "id": "dbff1041-367e-4c54-be2f-7a0e52df94c2",
   "metadata": {},
   "outputs": [
    {
     "name": "stdout",
     "output_type": "stream",
     "text": [
      "[4, 4096, 81, 25, 9, 4]\n"
     ]
    }
   ],
   "source": [
    "def fun_eleve_cuadrado(listanum):\n",
    "    return [x**2 for x in listanum]\n",
    "\n",
    "lista = [[2,-64,9,5,3,2]] \n",
    "#res = list(map(fun_eleve_cuadrado, lista)) #Mas simple\n",
    "print(list(map(fun_eleve_cuadrado, lista))[0])"
   ]
  },
  {
   "cell_type": "markdown",
   "id": "218a20c7-31da-4831-8f2d-ca3c59ebe116",
   "metadata": {},
   "source": [
    "# Filtrar una cadena\n",
    "Dada una lista de cadenas que contiene caracteres mezclados, estraer los digitos en cada cadena y retornar el resultado como una lista con cadenas de números\n",
    "\n",
    "## probar si una cadena es numero\n",
    "if cadena.isdigit():\n"
   ]
  },
  {
   "cell_type": "code",
   "execution_count": 40,
   "id": "8d67235e-2972-41ad-8da6-45c408a6cbb7",
   "metadata": {},
   "outputs": [
    {
     "name": "stdout",
     "output_type": "stream",
     "text": [
      "['352', '2345', '1223']\n"
     ]
    }
   ],
   "source": [
    "def extraer_digitos(cadena):\n",
    "    numero=\"\"\n",
    "    for c in cadena: \n",
    "        if c.isdigit():\n",
    "            numero+=c\n",
    "    return numero   \n",
    "    \n",
    "cadenas =[\"oma35uu2oo\", \"pepe23ganso45\", \"12oshcg23\"]  \n",
    "numeros = list(map(extraer_digitos, cadenas))\n",
    "print(numeros)\n"
   ]
  },
  {
   "cell_type": "markdown",
   "id": "d5bc88e3-24d4-4bc7-a602-2b5f09ca0fe3",
   "metadata": {},
   "source": [
    "# Explicamos el codigo\n",
    "1. cadenas es una lista de cadenas de caracteres\n",
    "2. map() opera sobre cada elemento de los elementos de cadenas, estra una cadena de cararcters y los pasa a la funcion estraer_digitos()\n",
    "3. en la funcion extraer digitos recorremos ´por comprension cada caracter del texto de entrada y con ella con el join8) lo concatemanos en una cadena y se retorna"
   ]
  },
  {
   "cell_type": "code",
   "execution_count": 47,
   "id": "580553df-c576-4c97-b51b-2b7a6e50a3a0",
   "metadata": {},
   "outputs": [
    {
     "name": "stdout",
     "output_type": "stream",
     "text": [
      "['352', '2345', '1223']\n"
     ]
    }
   ],
   "source": [
    "def extraer_digitos(texto):\n",
    "    return \"\".join([c for c in texto if c.isdigit()])\n",
    "    \n",
    "cadenas =[\"oma35uu2oo\", \"pepe23ganso45\", \"12oshcg23\"]\n",
    "numeros = list(map(extraer_digitos, cadenas))\n",
    "print(numeros)\n"
   ]
  },
  {
   "cell_type": "markdown",
   "id": "1dcc7bf7-63d3-4ea5-b4e4-51bd2c1eea22",
   "metadata": {},
   "source": [
    "# Funciones lambda\n",
    "En python las funciones lambda son funciones anonimas definidas con la palabra clave lambda. Son utiles para definir funciones pequeas y de una sola linea de forma concisa\n",
    "\n",
    "## Sintaxis\n",
    "lambda argumenos: expresión\n",
    "\n",
    "# lambda indica que es una funcion lambda\n",
    "argumentos: los parametros de entrada separados por comas Expresion El resultado retorna la funcion, calculado en una sola línea\n"
   ]
  },
  {
   "cell_type": "code",
   "execution_count": 55,
   "id": "11cdf22c-050c-41fe-8acb-481e4bc22198",
   "metadata": {},
   "outputs": [
    {
     "name": "stdout",
     "output_type": "stream",
     "text": [
      "12\n"
     ]
    }
   ],
   "source": [
    "suma = lambda x,y: x + y\n",
    "print(suma(3,9))\n"
   ]
  },
  {
   "cell_type": "markdown",
   "id": "5b5b7c66-d4cb-40ed-964d-b83011020e7c",
   "metadata": {},
   "source": [
    "# Funcion filter\n",
    "la funcion filter filtra los elementos de un iterable basandose en una funcion que retorna True o False. Solo los elementos que cumplen la condición (donde la función retorna un True) se incluyen en el resultado\n",
    "\n",
    "## Estructura\n",
    "filter(funcion, iterable)\n",
    "- Funcion evalua cada elemento\n",
    "- iterable: Coleccion de elementos a filtrar\n",
    "Se utiliza para filtrar elementos iterable como listas y tuplas etc, en base a una condición."
   ]
  },
  {
   "cell_type": "code",
   "execution_count": 59,
   "id": "1b1920cb-66cf-46b1-93c6-d993db36319c",
   "metadata": {},
   "outputs": [
    {
     "name": "stdout",
     "output_type": "stream",
     "text": [
      "['Hola', 'es']\n"
     ]
    }
   ],
   "source": [
    "palabras=[\"Hola\", \"python\",\"es\",\"genial\"]\n",
    "\n",
    "funcion = lambda palabra: len(palabra) < 5\n",
    "\n",
    "# filtradas = filter(lambda palabra: len(palabra) < 5, palabras)\n",
    "\n",
    "filtradas = filter(funcion, palabras)\n",
    "print(list(filtradas))"
   ]
  },
  {
   "cell_type": "code",
   "execution_count": 1,
   "id": "40a2fc57-1e85-4e0d-9fbe-f068d43c4410",
   "metadata": {},
   "outputs": [
    {
     "name": "stdout",
     "output_type": "stream",
     "text": [
      "[2, 4, 6, 8, 10]\n"
     ]
    }
   ],
   "source": [
    "#Verificar si la lista tiene numeros pares\n",
    "\n",
    "numeros =[1,2,3,4,5,6,7,8,9,10]\n",
    "es_par = lambda x : x % 2 ==0\n",
    "\n",
    "pares = filter(es_par, numeros)\n",
    "\n",
    "print(list(pares))"
   ]
  },
  {
   "cell_type": "code",
   "execution_count": 7,
   "id": "886d0967-28be-4a63-8aa6-4763b0c74f97",
   "metadata": {},
   "outputs": [
    {
     "name": "stdout",
     "output_type": "stream",
     "text": [
      "['Gato', 'Elefante', 'mariposa']\n"
     ]
    }
   ],
   "source": [
    "# Problema 3\n",
    "palabras = [ \"Gato\", \"Elefante\", \"Sol\", \"mariposa\", \"pez\"]\n",
    "palabras_largas = filter((lambda x: len(x) >= 4), palabras) \n",
    "print(list(palabras_largas))"
   ]
  },
  {
   "cell_type": "code",
   "execution_count": 11,
   "id": "dff8273d-50c8-4255-abb8-6a12dee7751b",
   "metadata": {},
   "outputs": [
    {
     "name": "stdout",
     "output_type": "stream",
     "text": [
      "[5, 8, 'python']\n"
     ]
    }
   ],
   "source": [
    "# Problema 4 filtra los valores nulos\n",
    "\n",
    "datos = [0, None, 5, '', False, 8 , 'python']\n",
    "print(list(filter(None, datos)))"
   ]
  },
  {
   "cell_type": "code",
   "execution_count": 17,
   "id": "dd9ff2f6-9154-4af3-b9d3-7a332257e96c",
   "metadata": {},
   "outputs": [
    {
     "name": "stdout",
     "output_type": "stream",
     "text": [
      "[-3, -8, -1]\n"
     ]
    }
   ],
   "source": [
    "# Filtrar los números negativos de una lista\n",
    "numeros = [10,-3,45,-8,0,-1,32]\n",
    "filter_negativo = lambda x: x < 0\n",
    "print(list(filter(filter_negativo, numeros)))"
   ]
  },
  {
   "cell_type": "markdown",
   "id": "de90286f-2801-4a53-8c31-387149f857ca",
   "metadata": {},
   "source": [
    "# Filtrar palabras que cominece con vocal\n",
    "palabras=[\"arbol\", \"Casa\", \"iguana\", \"elefante\", \"sol\"]\n",
    "vocales = lambda x: x[0].lower() in \"aeiouáéíóú\"\n",
    "con_vocales_inicial = filter(vocales, palabras)\n",
    "print(list(con_vocales_inicial))"
   ]
  },
  {
   "cell_type": "markdown",
   "id": "80732d11-5c08-4524-bf2e-7a48eb61a5be",
   "metadata": {},
   "source": [
    "# Zen de  Python\n",
    "## Recomendaciones para escribir codigo\n",
    "\n",
    "1. Usa comprensiones de lista cuando sea posible y apropiado\n",
    "  -Usalas para crear listas a partir de transformadores o filtros simples\n",
    "  -Evitalas si la logica es compleja y afecta la legibilidad.\n",
    "2. Prefiere la claridad sobre la concisión.\n",
    "   si una lista por comprensión se vuelve complicada, opta por un bucle normal.\n",
    "4. Escribe pensando en el lector del código.\n",
    "   . Si trabajas en equipo, asegurate de que otros pueden entender rápidamente lo que hiciste.\n",
    "   Agrega comentarios solo cuando sea necesario, pero no abuse de ellos, si el código ya es suficientemente claro\n",
    "5. No te obseciones con hacer que todo sea en una sola línea. Usa comprensiones donde sean útiles pero no fuerce el estilo   "
   ]
  },
  {
   "cell_type": "markdown",
   "id": "bcb21a12-ff3b-4686-8007-dc19f9cad172",
   "metadata": {},
   "source": [
    "# Temas de profundización en las librerías standard \n",
    "- collections: tipos de datos avanzados como counter y defaultdict\n",
    "- functools: Herramientas funcionales como reduce y lru_cache\n",
    "- os y sys\n",
    "- decoradores (conceptos avanzados)\n"
   ]
  },
  {
   "cell_type": "markdown",
   "id": "123e515a-a3db-4808-98f1-f165b6b55511",
   "metadata": {},
   "source": [
    "# En python, las collecciones sw refieren a tipos de datos integrados que permiten almacenar y manejar grupo de elementos.\n",
    "Estas colecciones son fundamentales para trabajar con datos en cualquier aplicación. Python proporciona varias colecciones en su biblioteca estándar, y cada una tiene caracteristicas especícas para adaptarse a distintos casos de uso\n",
    "\n",
    "1. Tipos básicos de colecciones\n",
    "   1.1 (list)\n",
    "   Las listas son ordenadas, mutables (Se pueden modificar) y pueden contener elementos duplicados\n",
    "\n",
    "   1.2 Caracteristicas\n",
    "   - Permiten cualquier tipo de dato (incluso mezclado)\n",
    "   - Se indexan numericamente\n",
    "   - Admiten operaciones de modificación como agregar , eliminar o reemplazar elementos\n",
    "     \n",
    "    1.3  Ejemplos:\n",
    "\n",
    "   - numeros = [1,2,3,4,5], [\"Yola\", 23, \"mundo\", [4,5,6]]\n",
    "     \n",
    "2. Otros elementos de coleccion\n",
    "\n",
    "   - Tuplas (Tupe)\n",
    "   - Conjuntos(set)\n",
    "   - Diccionarios(dict)\n",
    "\n"
   ]
  },
  {
   "cell_type": "markdown",
   "id": "56aebeec-3ace-41c3-910a-f57dda6a8bc1",
   "metadata": {},
   "source": [
    "# Módulo collections\n",
    "Python tiene un módulo llamado collections que proporciona estructuras de datos adicionales y mas especializadas\n",
    "1. Counter\n",
    "2. Un diccionario que cuenta la cantidad de ocurrencias de elementos en una coleccion"
   ]
  },
  {
   "cell_type": "code",
   "execution_count": 44,
   "id": "aee89ab9-a1b8-4ad0-8e37-6acb0ff2651e",
   "metadata": {},
   "outputs": [
    {
     "name": "stdout",
     "output_type": "stream",
     "text": [
      "Counter({'a': 3, 'n': 2, 'b': 1})\n"
     ]
    }
   ],
   "source": [
    "from collections import Counter\n",
    "texto = \"banana\"\n",
    "contador = Counter(texto)\n",
    "print(contador)"
   ]
  },
  {
   "cell_type": "markdown",
   "id": "12a48c39-0410-4a12-8560-386e6dec8977",
   "metadata": {},
   "source": [
    "# defaultdict\n",
    "Es un diccionario que retorna un valor predeterminado si una clave no existe\n"
   ]
  },
  {
   "cell_type": "code",
   "execution_count": 54,
   "id": "448d74a1-35be-4774-810f-4ca50e2adb76",
   "metadata": {},
   "outputs": [
    {
     "name": "stdout",
     "output_type": "stream",
     "text": [
      "1\n",
      "0\n"
     ]
    }
   ],
   "source": [
    "from collections import defaultdict\n",
    "dic = defaultdict(int)\n",
    "dic[\"x\"] +=1\n",
    "print(dic[\"x\"])\n",
    "print(dic[\"y\"])\n"
   ]
  },
  {
   "cell_type": "markdown",
   "id": "0b309ef0-efc6-4e10-9b0a-6513bb7d2256",
   "metadata": {},
   "source": [
    "# Módulo functools\n",
    "En python proporciona una coleción de herramientas con funciones y métodos de forma eficiente útil en programación funcional y al manejar funciones como objetos de primera clase\n",
    "1. functools.reduce(function, iterable[, initializador])]\n",
    "   Aplica de manera acumulativa una función a los elementos de un iterable, reduciendolo a un solo valor\n",
    "3. 2"
   ]
  },
  {
   "cell_type": "code",
   "execution_count": 59,
   "id": "9df76708-2e79-4da3-8ba6-41238a230ebc",
   "metadata": {},
   "outputs": [
    {
     "name": "stdout",
     "output_type": "stream",
     "text": [
      "120\n"
     ]
    }
   ],
   "source": [
    "from functools import reduce\n",
    "numbers = [1,2,3,4,5]\n",
    "result = reduce(lambda x,y : x*y, numbers)\n",
    "print(result)"
   ]
  },
  {
   "cell_type": "code",
   "execution_count": null,
   "id": "9672a3f0-1797-4c86-a34e-a01385ef752e",
   "metadata": {},
   "outputs": [],
   "source": []
  }
 ],
 "metadata": {
  "kernelspec": {
   "display_name": "Python [conda env:base] *",
   "language": "python",
   "name": "conda-base-py"
  },
  "language_info": {
   "codemirror_mode": {
    "name": "ipython",
    "version": 3
   },
   "file_extension": ".py",
   "mimetype": "text/x-python",
   "name": "python",
   "nbconvert_exporter": "python",
   "pygments_lexer": "ipython3",
   "version": "3.12.7"
  }
 },
 "nbformat": 4,
 "nbformat_minor": 5
}
