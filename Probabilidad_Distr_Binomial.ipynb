{
 "cells": [
  {
   "cell_type": "markdown",
   "id": "8c98c781-7f51-4f82-9885-5cbb4488858b",
   "metadata": {},
   "source": [
    "# Calculo de probabilidades\n",
    "\n",
    "## Distribución binomial\n"
   ]
  },
  {
   "cell_type": "code",
   "execution_count": 2,
   "id": "20ea453c-8d79-422b-af16-d40d50326a3c",
   "metadata": {},
   "outputs": [],
   "source": [
    "from scipy.stats import binom"
   ]
  },
  {
   "cell_type": "code",
   "execution_count": 9,
   "id": "91d5b32d-d423-4380-bbb6-3696b82d409b",
   "metadata": {},
   "outputs": [
    {
     "name": "stdout",
     "output_type": "stream",
     "text": [
      "Bienvenidos al algoritmo quwe calcula la probabilidad exacta P(X=k)\n",
      "\n"
     ]
    },
    {
     "name": "stdin",
     "output_type": "stream",
     "text": [
      "Digite el tamaño de la muestra n:  5\n",
      "digite la probabilidad de éxito p:  0.6\n",
      "Digite la probabilidad deseada k:  4\n"
     ]
    },
    {
     "name": "stdout",
     "output_type": "stream",
     "text": [
      "P(X=4): 25.92%\n"
     ]
    }
   ],
   "source": [
    "# algoritmo que calcula la probabilidad de una distribucion binomial\n",
    "print(\"Bienvenidos al algoritmo quwe calcula la probabilidad exacta P(X=k)\\n\")\n",
    "n = int(input(\"Digite el tamaño de la muestra n: \"))\n",
    "p = float(input(\"digite la probabilidad de éxito p: \"))\n",
    "k = int(input(\"Digite la probabilidad deseada k: \" ))\n",
    "\n",
    "#Calculo de la probabilidad exacta\n",
    "\n",
    "prob = binom.pmf(k,n,p)*100\n",
    "print(f\"P(X={k}): {prob:.2f}%\")"
   ]
  },
  {
   "cell_type": "markdown",
   "id": "c666fbd7-9e99-4835-ac61-d9e3e7fae904",
   "metadata": {},
   "source": [
    "# Calculo de probabilidad acumulada\n",
    "# P(X<=k) "
   ]
  },
  {
   "cell_type": "code",
   "execution_count": 8,
   "id": "281c7c03-ee7f-43ae-9bf1-e0f5b885b699",
   "metadata": {},
   "outputs": [
    {
     "name": "stdout",
     "output_type": "stream",
     "text": [
      "Bienvenidos al calculo de la probabilidad acumulada P(X <= k\n"
     ]
    },
    {
     "name": "stdin",
     "output_type": "stream",
     "text": [
      "Digite el tamaño de la muestra n:  5\n",
      "digite la probabilidad de éxito p:  0.6\n",
      "Digite la probabilidad deseada k:  5\n"
     ]
    },
    {
     "name": "stdout",
     "output_type": "stream",
     "text": [
      "P(X=5): 100.00%\n"
     ]
    }
   ],
   "source": [
    "# algoritmo que calcula la probabilidad de una distribucion binomial\n",
    "\n",
    "print(\"Bienvenidos al calculo de la probabilidad acumulada P(X <= k\")\n",
    "n = int(input(\"Digite el tamaño de la muestra n: \"))\n",
    "p = float(input(\"digite la probabilidad de éxito p: \"))\n",
    "k = int(input(\"Digite la probabilidad deseada k: \" ))\n",
    "\n",
    "#Calculo de la probabilidad exacta\n",
    "\n",
    "prob = binom.cdf(k,n,p)*100\n",
    "print(f\"P(X={k}): {prob:.2f}%\")"
   ]
  },
  {
   "cell_type": "markdown",
   "id": "76674109-cce1-4fed-af13-158f467e1dc6",
   "metadata": {},
   "source": [
    "# Calculo probabilidad complementaria\n",
    "## P(X >= k) = 1 -P(X < k)"
   ]
  },
  {
   "cell_type": "code",
   "execution_count": 10,
   "id": "a5b2fbc8-a7f5-4b65-84e4-b8a5b420275b",
   "metadata": {},
   "outputs": [
    {
     "name": "stdout",
     "output_type": "stream",
     "text": [
      "Bienvenidos al calculo de la probabilidad complementaria P(X >=k\n"
     ]
    },
    {
     "name": "stdin",
     "output_type": "stream",
     "text": [
      "Digite el tamaño de la muestra n:  5\n",
      "digite la probabilidad de éxito p:  0.6\n",
      "Digite la probabilidad deseada k:  4\n"
     ]
    },
    {
     "name": "stdout",
     "output_type": "stream",
     "text": [
      "P(X=4): 33.70%\n"
     ]
    }
   ],
   "source": [
    "# algoritmo que calcula la probabilidad de una distribucion binomial\n",
    "\n",
    "print(\"Bienvenidos al calculo de la probabilidad complementaria P(X >=k\")\n",
    "n = int(input(\"Digite el tamaño de la muestra n: \"))\n",
    "p = float(input(\"digite la probabilidad de éxito p: \"))\n",
    "k = int(input(\"Digite la probabilidad deseada k: \" ))\n",
    "\n",
    "#Calculo de la probabilidad exacta\n",
    "prob_menor_que = (1 - binom.cdf(k-1,n,p))*100\n",
    "\n",
    "print(f\"P(X={k}): {prob_menor_que:.2f}%\")"
   ]
  },
  {
   "cell_type": "code",
   "execution_count": null,
   "id": "1fa2673b-64ef-4941-9048-9c03bff9e289",
   "metadata": {},
   "outputs": [],
   "source": []
  }
 ],
 "metadata": {
  "kernelspec": {
   "display_name": "Python 3 (ipykernel)",
   "language": "python",
   "name": "python3"
  },
  "language_info": {
   "codemirror_mode": {
    "name": "ipython",
    "version": 3
   },
   "file_extension": ".py",
   "mimetype": "text/x-python",
   "name": "python",
   "nbconvert_exporter": "python",
   "pygments_lexer": "ipython3",
   "version": "3.12.3"
  }
 },
 "nbformat": 4,
 "nbformat_minor": 5
}
