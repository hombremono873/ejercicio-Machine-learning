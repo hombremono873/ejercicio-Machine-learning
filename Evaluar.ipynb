{
 "cells": [
  {
   "cell_type": "markdown",
   "id": "f60dcd33-fad6-4af5-a592-c915217c4e30",
   "metadata": {},
   "source": [
    "# Evaluación de resultados\n"
   ]
  },
  {
   "attachments": {
    "8aa88024-6b49-47bc-9dc0-055e7a414b73.png": {
     "image/png": "[encoded data removed]"
    }
   },
   "cell_type": "markdown",
   "id": "50de59ee-90ce-472e-85bd-796510a0258b",
   "metadata": {},
   "source": [
    "![matriz.png](attachment:8aa88024-6b49-47bc-9dc0-055e7a414b73.png)"
   ]
  },
  {
   "cell_type": "code",
   "execution_count": null,
   "id": "564cd644-11a9-4d99-a3de-f2e33874aae3",
   "metadata": {},
   "outputs": [],
   "source": []
  }
 ],
 "metadata": {
  "kernelspec": {
   "display_name": "Python 3 (ipykernel)",
   "language": "python",
   "name": "python3"
  },
  "language_info": {
   "codemirror_mode": {
    "name": "ipython",
    "version": 3
   },
   "file_extension": ".py",
   "mimetype": "text/x-python",
   "name": "python",
   "nbconvert_exporter": "python",
   "pygments_lexer": "ipython3",
   "version": "3.12.3"
  }
 },
 "nbformat": 4,
 "nbformat_minor": 5
}
