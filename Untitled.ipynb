{
 "cells": [
  {
   "cell_type": "markdown",
   "id": "7abd1a01-073a-4859-8f50-7c6de6c26d30",
   "metadata": {},
   "source": [
    "# Curvas 3d con uso de plot()\n",
    "Al comenzar a usar matplotlib usamos la función plot, que nos unió mediante lineas los puntos de los datos dados en dos vectores, que almacenaban las coordenadas x e y. el uso de 3D será similar, pero tendremos que dar ahora un trercer vector para la coordenada Z.\n",
    "el formato de la función plot (o su equivalente en 3D es plot3D() es \n",
    "\n",
    "## Axes3D.plot(xs, ys, zs=0, zdir='z'). \n",
    "En el xs y ys son arrays que almacenan las coordenadas de los vertices en los ejes x e y, zs es un valor rea o un array que almacena los valores para el eje z y es perpendicular al plano que forman los ejes x,y "
   ]
  },
  {
   "cell_type": "code",
   "execution_count": 10,
   "id": "636cfd74-6dff-4947-b9cf-c909a213c992",
   "metadata": {},
   "outputs": [
    {
     "ename": "TypeError",
     "evalue": "FigureBase.gca() got an unexpected keyword argument 'projection'",
     "output_type": "error",
     "traceback": [
      "\u001b[1;31m---------------------------------------------------------------------------\u001b[0m",
      "\u001b[1;31mTypeError\u001b[0m                                 Traceback (most recent call last)",
      "Cell \u001b[1;32mIn[10], line 6\u001b[0m\n\u001b[0;32m      4\u001b[0m \u001b[38;5;66;03m# Crear la figura y el eje 3D\u001b[39;00m\n\u001b[0;32m      5\u001b[0m fig \u001b[38;5;241m=\u001b[39m plt\u001b[38;5;241m.\u001b[39mfigure(figsize\u001b[38;5;241m=\u001b[39m(\u001b[38;5;241m8\u001b[39m, \u001b[38;5;241m8\u001b[39m))\n\u001b[1;32m----> 6\u001b[0m ax \u001b[38;5;241m=\u001b[39m fig\u001b[38;5;241m.\u001b[39mgca(projection\u001b[38;5;241m=\u001b[39m\u001b[38;5;124m'\u001b[39m\u001b[38;5;124m3d\u001b[39m\u001b[38;5;124m'\u001b[39m)\n\u001b[0;32m      8\u001b[0m \u001b[38;5;66;03m# Datos a graficar\u001b[39;00m\n\u001b[0;32m      9\u001b[0m X \u001b[38;5;241m=\u001b[39m [\u001b[38;5;241m4\u001b[39m, \u001b[38;5;241m7\u001b[39m, \u001b[38;5;241m9\u001b[39m, \u001b[38;5;241m3\u001b[39m, \u001b[38;5;241m8\u001b[39m]\n",
      "\u001b[1;31mTypeError\u001b[0m: FigureBase.gca() got an unexpected keyword argument 'projection'"
     ]
    },
    {
     "data": {
      "text/plain": [
       "<Figure size 800x800 with 0 Axes>"
      ]
     },
     "metadata": {},
     "output_type": "display_data"
    }
   ],
   "source": [
    "from mpl_toolkits.mplot3d import Axes3D\n",
    "import matplotlib.pyplot as plt\n",
    "\n",
    "# Crear la figura y el eje 3D\n",
    "fig = plt.figure(figsize=(8, 8))\n",
    "ax = fig.gca(projection='3d')\n",
    "\n",
    "# Datos a graficar\n",
    "X = [4, 7, 9, 3, 8]\n",
    "Y = [4, 5, 7, 6, 5]\n",
    "Z = [3, 4, 2, 6, 8]\n",
    "\n",
    "# Ajustar la vista\n",
    "ax.view_init(15, -47)\n",
    "\n",
    "# Graficar en 3D\n",
    "ax.plot3D(X, Y, Z)\n",
    "\n",
    "# Mostrar el gráfico\n",
    "plt.show()\n"
   ]
  },
  {
   "cell_type": "code",
   "execution_count": null,
   "id": "0ffb94d0-a786-44fc-b3b6-4f05768ffc5a",
   "metadata": {},
   "outputs": [],
   "source": []
  }
 ],
 "metadata": {
  "kernelspec": {
   "display_name": "Python 3 (ipykernel)",
   "language": "python",
   "name": "python3"
  },
  "language_info": {
   "codemirror_mode": {
    "name": "ipython",
    "version": 3
   },
   "file_extension": ".py",
   "mimetype": "text/x-python",
   "name": "python",
   "nbconvert_exporter": "python",
   "pygments_lexer": "ipython3",
   "version": "3.12.3"
  }
 },
 "nbformat": 4,
 "nbformat_minor": 5
}
