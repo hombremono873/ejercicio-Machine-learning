{
 "cells": [
  {
   "cell_type": "markdown",
   "id": "c217b9f5-b8d7-4e43-95e4-5414f1f519df",
   "metadata": {},
   "source": [
    "# Calculo de la Experanza matematica \n",
    "\n",
    "Crear un programa que simule el lanzamiento de un dado segun un valor de entrada del jugador , por ejemplo pude decidir un lanzamiento o n lanzamientos.\n",
    "Si analizamos el comportamiento del juego vemos que cuando n tiende a un valor infiniamente grande la esperanza tiende a 3.5 que es lo esperado\n"
   ]
  },
  {
   "cell_type": "code",
   "execution_count": null,
   "id": "cd0bb843-8b78-40da-b075-789381162791",
   "metadata": {},
   "outputs": [
    {
     "name": "stdout",
     "output_type": "stream",
     "text": [
      "Deseas jugar? S/N \n"
     ]
    },
    {
     "name": "stdin",
     "output_type": "stream",
     "text": [
      "Deseas jugar S / N  S\n",
      "Indique cuantos lanzamientos quieres realizar:  10\n"
     ]
    },
    {
     "name": "stdout",
     "output_type": "stream",
     "text": [
      "La Esperanza de ganar hoy en promedio es 2.9:\n"
     ]
    },
    {
     "name": "stdin",
     "output_type": "stream",
     "text": [
      "Deseas jugar S / N  S\n",
      "Indique cuantos lanzamientos quieres realizar:  800\n"
     ]
    },
    {
     "name": "stdout",
     "output_type": "stream",
     "text": [
      "La Esperanza de ganar hoy en promedio es 3.37375:\n"
     ]
    },
    {
     "name": "stdin",
     "output_type": "stream",
     "text": [
      "Deseas jugar S / N  S\n",
      "Indique cuantos lanzamientos quieres realizar:  1000\n"
     ]
    },
    {
     "name": "stdout",
     "output_type": "stream",
     "text": [
      "La Esperanza de ganar hoy en promedio es 3.451:\n"
     ]
    },
    {
     "name": "stdin",
     "output_type": "stream",
     "text": [
      "Deseas jugar S / N  S\n",
      "Indique cuantos lanzamientos quieres realizar:  10000\n"
     ]
    },
    {
     "name": "stdout",
     "output_type": "stream",
     "text": [
      "La Esperanza de ganar hoy en promedio es 3.5108:\n"
     ]
    }
   ],
   "source": [
    "import random\n",
    "import numpy as np\n",
    "\n",
    "def lanzar_dado():\n",
    "    return random.randint(1,6)\n",
    "    \n",
    "def get_lanzamientos():\n",
    "    n = int(input(\"Indique cuantos lanzamientos quieres realizar: \"))\n",
    "    return n\n",
    "    \n",
    "E =np.array([lanzar_dado() for _ in range(n)]).sum()/n\n",
    "\n",
    "def main():\n",
    "    control = \"No\"\n",
    "    print(\"Deseas jugar? S/N \")\n",
    "    while control != \"Salir\":\n",
    "       play = input(\"Deseas jugar S / N \")\n",
    "       if play ==\"S\":\n",
    "            n = get_lanzamientos()\n",
    "            E =np.array([lanzar_dado() for _ in range(n)]).sum()/n\n",
    "            print(f\"La Esperanza de ganar hoy en promedio es {E}:\")\n",
    "       else: control = \"Salir\"    \n",
    "        \n",
    "if __name__ == \"__main__\":\n",
    "    main()"
   ]
  },
  {
   "cell_type": "code",
   "execution_count": null,
   "id": "9dcab4af-c01c-40f8-951b-6cf89e73c022",
   "metadata": {},
   "outputs": [],
   "source": []
  },
  {
   "cell_type": "code",
   "execution_count": null,
   "id": "3eba36c3-c40c-478e-80d7-e717627b8c00",
   "metadata": {},
   "outputs": [],
   "source": []
  }
 ],
 "metadata": {
  "kernelspec": {
   "display_name": "Python [conda env:base] *",
   "language": "python",
   "name": "conda-base-py"
  },
  "language_info": {
   "codemirror_mode": {
    "name": "ipython",
    "version": 3
   },
   "file_extension": ".py",
   "mimetype": "text/x-python",
   "name": "python",
   "nbconvert_exporter": "python",
   "pygments_lexer": "ipython3",
   "version": "3.12.7"
  }
 },
 "nbformat": 4,
 "nbformat_minor": 5
}
