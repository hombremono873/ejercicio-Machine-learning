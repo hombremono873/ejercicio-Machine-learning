{
 "cells": [
  {
   "cell_type": "markdown",
   "id": "2bdfa89b-46b0-41a6-a68e-6eb9a3c9873b",
   "metadata": {},
   "source": [
    "1. funcion lambda\n",
    "2. funcion ZIP\n",
    "3. funcion map"
   ]
  },
  {
   "cell_type": "code",
   "execution_count": 1,
   "id": "37022fd7-d419-48b9-b565-2475453b9ba3",
   "metadata": {},
   "outputs": [
    {
     "name": "stdout",
     "output_type": "stream",
     "text": [
      "5\n"
     ]
    }
   ],
   "source": [
    "sumar = lambda a,b : a+b\n",
    "print(sumar(2,3))"
   ]
  },
  {
   "cell_type": "code",
   "execution_count": 2,
   "id": "6edc9c52-b599-4b3e-9d4a-f2a609363e72",
   "metadata": {},
   "outputs": [
    {
     "name": "stdout",
     "output_type": "stream",
     "text": [
      "400\n"
     ]
    }
   ],
   "source": [
    "cuadrado = lambda a:a**2\n",
    "print(cuadrado(20))"
   ]
  },
  {
   "cell_type": "code",
   "execution_count": 4,
   "id": "cb1afc3a-fdae-4ad0-b18f-a159b96a58d3",
   "metadata": {},
   "outputs": [
    {
     "name": "stdout",
     "output_type": "stream",
     "text": [
      "True\n"
     ]
    }
   ],
   "source": [
    "#Verifica si es par\n",
    "es_par = lambda a: a % 2 ==0\n",
    "print(es_par(8))     #Imprime True si es par"
   ]
  },
  {
   "cell_type": "code",
   "execution_count": 6,
   "id": "34a9e254-4d80-4c96-88d8-179b8d096ba2",
   "metadata": {},
   "outputs": [
    {
     "name": "stdout",
     "output_type": "stream",
     "text": [
      "Hola Mundo\n"
     ]
    }
   ],
   "source": [
    "#Concatenar dos cadenas\n",
    "une_cadena = lambda cadA, cadB : cadA + \" \" + cadB\n",
    "print(une_cadena(\"Hola\", \"Mundo\"))"
   ]
  },
  {
   "cell_type": "code",
   "execution_count": 7,
   "id": "9b467d6e-9045-4ede-a47c-85ab1dc6173e",
   "metadata": {},
   "outputs": [
    {
     "name": "stdout",
     "output_type": "stream",
     "text": [
      "89\n"
     ]
    }
   ],
   "source": [
    "# Obtener mayor\n",
    "get_mayor = lambda a,b : a if a > b else b\n",
    "print(get_mayor(45,89))"
   ]
  },
  {
   "cell_type": "markdown",
   "id": "47005c5a-c54e-47c0-88ec-97cbdab405af",
   "metadata": {},
   "source": [
    "# Función Zip\n",
    "La función zip en python se usa para combinar multiples iterables (listas, tuplas, diccionarios) en un solo iterable, que consiste en tuplas. Cada tupla contiene elementos correspondiente de los iterables proporcionados.\n",
    "\n",
    "## Sintaxis\n",
    "Zip(iter1, iter2)\n"
   ]
  },
  {
   "cell_type": "markdown",
   "id": "4a002e89-db05-42e7-8cd9-7f530b6b552c",
   "metadata": {},
   "source": [
    "# Empaquetado con zip()"
   ]
  },
  {
   "cell_type": "code",
   "execution_count": 11,
   "id": "19929976-b237-454a-93fb-e44ec726d7ae",
   "metadata": {},
   "outputs": [
    {
     "name": "stdout",
     "output_type": "stream",
     "text": [
      "[('Ana', 25), ('Juan', 30), ('Luisa', 22)]\n"
     ]
    }
   ],
   "source": [
    "nombres = [\"Ana\", \"Juan\", \"Luisa\"]\n",
    "edades = [25,30,22]\n",
    "combinados = zip(nombres, edades)\n",
    "print(list(combinados))"
   ]
  },
  {
   "cell_type": "code",
   "execution_count": 13,
   "id": "8be1c7ff-edd6-468c-b114-8c19cf6790c7",
   "metadata": {},
   "outputs": [
    {
     "name": "stdout",
     "output_type": "stream",
     "text": [
      "[('Ana', 25, 'Bogotá'), ('Juan', 30, 'Medellin'), ('Luisa', 22, 'Caracas')]\n"
     ]
    }
   ],
   "source": [
    "#Procesando multiples iterables\n",
    "nombres = [\"Ana\", \"Juan\", \"Luisa\"]\n",
    "edades = [25,30,22]\n",
    "ciudades=[\"Bogotá\", \"Medellin\", \"Caracas\", \"Bucaramanga\"]\n",
    "combinados=zip(nombres, edades, ciudades)\n",
    "print(list(combinados))"
   ]
  },
  {
   "cell_type": "markdown",
   "id": "cef2d596-4211-4fb7-9021-0f00917a139c",
   "metadata": {},
   "source": [
    "# Desempaquetado con zip()\n",
    "\n",
    "Podemos desempaquetar información en variables usando el operador *\n",
    "\n",
    "Si tenemos la lista de tuplas \n",
    "[('Ana', 25, 'Bogotá'), ('Juan', 30, 'Medellin'), ('Luisa', 22, 'Caracas')]\n",
    "\n"
   ]
  },
  {
   "cell_type": "code",
   "execution_count": 15,
   "id": "df7b0420-1e0e-4668-9e43-06363bbf3c61",
   "metadata": {},
   "outputs": [
    {
     "name": "stdout",
     "output_type": "stream",
     "text": [
      "('Ana', 'Juan', 'Luisa') (25, 30, 22) ('Bogotá', 'Medellin', 'Caracas')\n"
     ]
    }
   ],
   "source": [
    "combinados = [('Ana', 25, 'Bogotá'), ('Juan', 30, 'Medellin'), ('Luisa', 22, 'Caracas')]\n",
    "\n",
    "nombres, edades, ciudades = zip(*combinados)\n",
    "print(nombres, edades, ciudades)"
   ]
  },
  {
   "cell_type": "markdown",
   "id": "94dbb44f-14e4-4030-a3b6-3e7802dad7df",
   "metadata": {},
   "source": [
    "# Iterar sobre el resultado de zip\n",
    "Como zip retorna un iterador podemos iterar sobre el resultado usando un bucle\n"
   ]
  },
  {
   "cell_type": "code",
   "execution_count": 27,
   "id": "66239be3-7143-466e-98a8-24cfbf0307af",
   "metadata": {},
   "outputs": [
    {
     "name": "stdout",
     "output_type": "stream",
     "text": [
      "Ana Juan Luisa\n",
      "Nombre: Ana Edad: 25, Ciudad: Bogotá\n",
      "Nombre: Juan Edad: 30, Ciudad: Medellin\n",
      "Nombre: Luisa Edad: 22, Ciudad: Caracas\n"
     ]
    }
   ],
   "source": [
    "# del paso anterior tenemos unos datos que son una lista de tuplas y podemos iterar\n",
    "nombres = [\"Ana\", \"Juan\", \"Luisa\"]\n",
    "edades = [25,30,22]\n",
    "ciudades=[\"Bogotá\", \"Medellin\", \"Caracas\", \"Bucaramanga\"]\n",
    "combinado = zip(nombres, edades, ciudades)\n",
    "\n",
    "print(name1, name2, name3)\n",
    "for nombre, edad, ciudad in combinado:\n",
    "    print(f\"Nombre: {nombre} Edad: {edad}, Ciudad: {ciudad}\")\n"
   ]
  },
  {
   "cell_type": "markdown",
   "id": "b08a628e-a44c-44b9-8e87-9a9c74210763",
   "metadata": {},
   "source": [
    "# Iteracion paralela con zip"
   ]
  },
  {
   "cell_type": "code",
   "execution_count": 39,
   "id": "10834d96-1c13-448c-9aeb-4f4820f289cf",
   "metadata": {},
   "outputs": [
    {
     "name": "stdout",
     "output_type": "stream",
     "text": [
      "Ana 25\n",
      "Juan 30\n",
      "Luisa 22\n"
     ]
    }
   ],
   "source": [
    "nombres = [\"Ana\", \"Juan\", \"Luisa\", \"Carmen\"]\n",
    "edades = [25,30,22]\n",
    "paquete = zip(nombres, edades)\n",
    "for nombre, edad, in zip(nombres, edades):\n",
    "    print(nombre, edad)"
   ]
  },
  {
   "cell_type": "markdown",
   "id": "9ffdcb7f-e1c4-4714-ac86-55434bf20214",
   "metadata": {},
   "source": [
    "# Uso practico del zip\n"
   ]
  },
  {
   "cell_type": "code",
   "execution_count": 48,
   "id": "b39bbf33-c874-4ff7-bc58-b88ac5c55a2a",
   "metadata": {},
   "outputs": [
    {
     "name": "stdout",
     "output_type": "stream",
     "text": [
      "[45, 21, 36]\n"
     ]
    }
   ],
   "source": [
    "\n",
    "a = [1,2,3]\n",
    "b = [4,5,6]\n",
    "k = [9,3,4]\n",
    "suma =[(x+y)*z for x,y,z in zip(a,b,k)]\n",
    "print(suma)\n"
   ]
  },
  {
   "cell_type": "markdown",
   "id": "4ec939e8-59c3-4746-90d7-640943f99941",
   "metadata": {},
   "source": [
    "# Uso de map\n",
    "Se usa para aplicar una función a un iterable"
   ]
  },
  {
   "cell_type": "code",
   "execution_count": 50,
   "id": "0450a49c-31c4-4830-a035-024ed4ce92c1",
   "metadata": {},
   "outputs": [
    {
     "name": "stdout",
     "output_type": "stream",
     "text": [
      "[2.0, 4.0, 5.0, 12.0]\n"
     ]
    }
   ],
   "source": [
    "#Sea un iterable al que se le quiere calcular la raiz cuadrada\n",
    "def raiz_2(numeros):\n",
    "    return numeros**0.5\n",
    "\n",
    "lista = [4,16,25,144]\n",
    "print(list(map(raiz_2, lista)))"
   ]
  },
  {
   "cell_type": "code",
   "execution_count": 54,
   "id": "ffe52ab3-fc54-4bce-93d0-d36021206a13",
   "metadata": {},
   "outputs": [
    {
     "name": "stdout",
     "output_type": "stream",
     "text": [
      "[8, 27, 64, 125]\n"
     ]
    }
   ],
   "source": [
    "#Elevar al cubo usando map y lambda\n",
    "lista = [2,3,4,5]\n",
    "resul = list(map(lambda x: x**3, lista))\n",
    "print(resul)"
   ]
  },
  {
   "cell_type": "code",
   "execution_count": 57,
   "id": "a2456903-3959-4995-b002-9e23b62e21e4",
   "metadata": {},
   "outputs": [
    {
     "name": "stdout",
     "output_type": "stream",
     "text": [
      "[3, 3, 3, 3, 3]\n"
     ]
    }
   ],
   "source": [
    "#Uso de map con multiples iterables\n",
    "lista1 = [1,2,3,4,5]\n",
    "lista2 =[4,5,6,7,8]\n",
    "\n",
    "resultado = list(map(lambda x,y: y-x, lista1, lista2))\n",
    "print(resultado)"
   ]
  },
  {
   "cell_type": "code",
   "execution_count": 58,
   "id": "b9e7bc4b-a7da-4d41-8aa4-27a1fe3c0790",
   "metadata": {},
   "outputs": [
    {
     "name": "stdout",
     "output_type": "stream",
     "text": [
      "[1, 22, 31, 13]\n"
     ]
    }
   ],
   "source": [
    "#Convertir tipos con map\n",
    "cadena_num = [\"1\",\"22\",\"31\",\"13\"]\n",
    "resultado = list(map(lambda x:int(x), cadena_num))\n",
    "print(resultado)"
   ]
  },
  {
   "cell_type": "code",
   "execution_count": 61,
   "id": "74df1a28-95f1-40ed-80c6-21c1bed24a7d",
   "metadata": {},
   "outputs": [
    {
     "name": "stdout",
     "output_type": "stream",
     "text": [
      "['Hola Mundo bonito', 'Pedro Argumedo', 'Patria Linda']\n"
     ]
    }
   ],
   "source": [
    "#Concatenar textos\n",
    "texto1 = [\"Hola\", \"Pedro\", \"Patria\"]\n",
    "texto2 = [\"Mundo bonito\", \"Argumedo\", \"Linda\"]\n",
    "\n",
    "resultado = list(map(lambda  text1, text2: text1 + \" \" + text2, texto1, texto2))\n",
    "print(resultado)"
   ]
  },
  {
   "cell_type": "markdown",
   "id": "26f105d7-9442-488e-bb21-b30bd2ad88ab",
   "metadata": {},
   "source": [
    "# Uso de map con objetos personalizados"
   ]
  },
  {
   "cell_type": "code",
   "execution_count": 69,
   "id": "de006b5f-af5c-492a-b7d8-4ac2f5dbea63",
   "metadata": {},
   "outputs": [
    {
     "name": "stdout",
     "output_type": "stream",
     "text": [
      "OMAR 65\n",
      "ARTURO 31\n"
     ]
    }
   ],
   "source": [
    "class Persona:\n",
    "    def __init__(self, nombre, edad):\n",
    "        self.nombre = nombre\n",
    "        self.edad = edad\n",
    "           \n",
    "    def incrementar_edad(self):\n",
    "        self.edad +=1\n",
    "        self.conver_mayus()\n",
    "        \n",
    "    def conver_mayus(self):\n",
    "        self.nombre = (self.nombre).upper()\n",
    "   \n",
    "        \n",
    "personas = [Persona(\"Omar\", 64), Persona(\"Arturo\", 30)]  \n",
    "list(map(lambda p: p.incrementar_edad(), personas))\n",
    "for p in personas:\n",
    "    print(f\"{p.nombre} {p.edad}\")"
   ]
  },
  {
   "cell_type": "code",
   "execution_count": null,
   "id": "891d6441-b30f-450c-a915-c0084aa27908",
   "metadata": {},
   "outputs": [],
   "source": []
  }
 ],
 "metadata": {
  "kernelspec": {
   "display_name": "Python [conda env:base] *",
   "language": "python",
   "name": "conda-base-py"
  },
  "language_info": {
   "codemirror_mode": {
    "name": "ipython",
    "version": 3
   },
   "file_extension": ".py",
   "mimetype": "text/x-python",
   "name": "python",
   "nbconvert_exporter": "python",
   "pygments_lexer": "ipython3",
   "version": "3.12.7"
  }
 },
 "nbformat": 4,
 "nbformat_minor": 5
}
